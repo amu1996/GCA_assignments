{
  "nbformat": 4,
  "nbformat_minor": 0,
  "metadata": {
    "colab": {
      "name": "FODS_Assignment_I.ipynb",
      "provenance": [],
      "include_colab_link": true
    },
    "kernelspec": {
      "name": "python3",
      "display_name": "Python 3"
    }
  },
  "cells": [
    {
      "cell_type": "markdown",
      "metadata": {
        "id": "view-in-github",
        "colab_type": "text"
      },
      "source": [
        "<a href=\"https://colab.research.google.com/github/amu1996/GCA_assignments/blob/main/FODS_Assignment_I.ipynb\" target=\"_parent\"><img src=\"https://colab.research.google.com/assets/colab-badge.svg\" alt=\"Open In Colab\"/></a>"
      ]
    },
    {
      "cell_type": "markdown",
      "metadata": {
        "id": "uiK0fGWOnXcQ"
      },
      "source": [
        "Book :- \r\n",
        "Author :- Mark Lutz \r\n",
        "1. Learning Python 5th Edition O'Reilly\r\n",
        "2.Python Cookbook  David Beazley O'Reilly \r\n",
        "\r\n",
        "Link:- \r\n",
        "1. http://www.cs.uni.edu/~fienup/cs051f10/lectures/\r\n",
        "2. https://github.com/MrAlex6204/Books/blob/master/Learning%20Python%2C%205th%20Edition.pdf\r\n",
        "3. https://github.com/tomarraj008/data_books/blob/master/Python%20Cookbook%2C%203rd%20Edition.pdf\r\n",
        "\r\n"
      ]
    },
    {
      "cell_type": "markdown",
      "metadata": {
        "id": "g5RW89-P01bg"
      },
      "source": [
        "First Week Assignment \r\n",
        "\r\n",
        "Test Your Knowledge: Quiz \r\n",
        "\r\n",
        "1. What are the six main reasons that people choose to use Python?\r\n",
        "2. Name four notable companies or organizations using Python today.\r\n",
        "3. Why might you not want to use Python in an application?\r\n",
        "4. What can you do with Python?\r\n",
        "5. What’s the significance of the Python import this statement?\r\n",
        "6. Why does “spam” show up in so many Python examples in books and on the Web?\r\n",
        "7. What is your favorite color?\r\n",
        "\r\n",
        "\r\n",
        "Test Your Knowledge: Quiz\r\n",
        "1. What is the Python interpreter?\r\n",
        "2. What is source code?\r\n",
        "3. What is byte code?\r\n",
        "4. What is the PVM?\r\n",
        "5. Name two or more variations on Python’s standard execution model.\r\n",
        "6. How are CPython, Jython, and IronPython different?\r\n",
        "7. What are Stackless and PyPy?\r\n",
        "\r\n",
        "Test Your Knowledge: Quiz\r\n",
        "1. How can you start an interactive interpreter session?\r\n",
        "2. Where do you type a system command line to launch a script file?\r\n",
        "3. Name four or more ways to run the code saved in a script file.\r\n",
        "4. Name two pitfalls related to clicking file icons on Windows.\r\n",
        "5. Why might you need to reload a module?\r\n",
        "6. How do you run a script from within IDLE?\r\n",
        "7. Name two pitfalls related to using IDLE.\r\n",
        "8. What is a namespace, and how does it relate to module files?\r\n",
        "\r\n",
        "\r\n",
        "Test Your Knowledge: Quiz\r\n",
        "\r\n",
        "1. Name four of Python’s core data types.\r\n",
        "2. Why are they called “core” data types?\r\n",
        "3. What does “immutable” mean, and which three of Python’s core types are considered immutable?\r\n",
        "4. What does “sequence” mean, and which three types fall into that category?\r\n",
        "5. What does “mapping” mean, and which core type is a mapping?\r\n",
        "6. What is “polymorphism,” and why should you care?\r\n",
        "\r\n",
        "\r\n",
        "\r\n"
      ]
    },
    {
      "cell_type": "code",
      "metadata": {
        "id": "vEu8kPJK6jcq"
      },
      "source": [
        ""
      ],
      "execution_count": null,
      "outputs": []
    },
    {
      "cell_type": "markdown",
      "metadata": {
        "id": "6kafgQs5S8WY"
      },
      "source": [
        "**Projects:-**<br>\r\n",
        "1. Open a Python shell, enter the following expressions, and observe the results:<br>\r\n",
        "a. 8<br>\r\n",
        "b. 8 * 2<br>\r\n",
        "c. 8 ** 2<br>\r\n",
        "d. 8/12<br>\r\n",
        "e. 8 // 12<br>\r\n",
        "f. 8/0"
      ]
    },
    {
      "cell_type": "code",
      "metadata": {
        "id": "M0vvPpdkTWOZ",
        "colab": {
          "base_uri": "https://localhost:8080/"
        },
        "outputId": "fecaae23-9f0c-480c-a8a0-7db3182258d7"
      },
      "source": [
        "8\r\n",
        "8*2\r\n",
        "8**2\r\n",
        "8/12\r\n",
        "8 // 12\r\n",
        "8/0"
      ],
      "execution_count": null,
      "outputs": [
        {
          "output_type": "execute_result",
          "data": {
            "text/plain": [
              "0.6666666666666666"
            ]
          },
          "metadata": {
            "tags": []
          },
          "execution_count": 4
        }
      ]
    },
    {
      "cell_type": "markdown",
      "metadata": {
        "id": "XQvLVHp-peSp"
      },
      "source": [
        "a. prints the 8 and which is type int.<br>\r\n",
        "b. * is multiplication operator(arithmetic), 8 multiplies 2 =16<br>\r\n",
        "c. ** is power, 8 power 2 =64.<br>\r\n",
        "d. / is divsion, 8 division by 12 = 0.6666666666666666<br>\r\n",
        "e. // is Floor division, 8 floor division by 12 = 0<br>\r\n",
        "f. Here 8 division by 0, which gives ZeroDivisionError: division by zero<br>\r\n"
      ]
    },
    {
      "cell_type": "markdown",
      "metadata": {
        "id": "1E0fYxmjpaTr"
      },
      "source": [
        ""
      ]
    },
    {
      "cell_type": "markdown",
      "metadata": {
        "id": "ySRylLzXTg4L"
      },
      "source": [
        "2. Write a Python program that prints (displays) your name, address, and telephone number"
      ]
    },
    {
      "cell_type": "code",
      "metadata": {
        "id": "IC-e8BmAUMex",
        "colab": {
          "base_uri": "https://localhost:8080/"
        },
        "outputId": "1fe05795-a159-4f16-a532-bb80daf785c7"
      },
      "source": [
        "name = 'Amit'\r\n",
        "address = 'Imadol, Lalitpur'\r\n",
        "number = 1234566\r\n",
        "\r\n",
        "print(f'Name:{name}, Address:{address}, Telephone number:{number}')"
      ],
      "execution_count": null,
      "outputs": [
        {
          "output_type": "stream",
          "text": [
            "Name:Amit, Address:Imadol, Lalitpur, Telephone number:1234566\n"
          ],
          "name": "stdout"
        }
      ]
    },
    {
      "cell_type": "markdown",
      "metadata": {
        "id": "ZRaud_6ApmUk"
      },
      "source": [
        "Name:Amit, Address:Imadol, Lalitpur, Telephone number:1234566"
      ]
    },
    {
      "cell_type": "markdown",
      "metadata": {
        "id": "H-t99QCLUNap"
      },
      "source": [
        "3. Evaluate the following code at a shell prompt: print(\"Your name is\", name). Then assign name an appropriate value, and evaluate the statement again."
      ]
    },
    {
      "cell_type": "code",
      "metadata": {
        "id": "dXcXgJUSUhwR",
        "colab": {
          "base_uri": "https://localhost:8080/"
        },
        "outputId": "132a7975-c806-4395-c075-c6a1fa974d9c"
      },
      "source": [
        "name ='XYZ'\r\n",
        "print(f'Your name is {name}')"
      ],
      "execution_count": null,
      "outputs": [
        {
          "output_type": "stream",
          "text": [
            "Your name is XYZ\n"
          ],
          "name": "stdout"
        }
      ]
    },
    {
      "cell_type": "markdown",
      "metadata": {
        "id": "TpNs5eXUpp1C"
      },
      "source": [
        "Your name is XYZ"
      ]
    },
    {
      "cell_type": "markdown",
      "metadata": {
        "id": "qjgWML-AUi-v"
      },
      "source": [
        "4. Write and test a program that accepts the user's name(as text) and age(as a number) as input. The program should output a sentense containing the user's name and age."
      ]
    },
    {
      "cell_type": "code",
      "metadata": {
        "id": "a3yt3ND1WkF0",
        "colab": {
          "base_uri": "https://localhost:8080/"
        },
        "outputId": "736fcca9-5521-49be-d5fd-64371855f658"
      },
      "source": [
        "name = input('Enter your name')\r\n",
        "age = int(input('Enter your age'))\r\n",
        "print(f\"User's name {name} and age {age}\")"
      ],
      "execution_count": null,
      "outputs": [
        {
          "output_type": "stream",
          "text": [
            "Enter your namexyz\n",
            "Enter your age34\n",
            "User's name xyz and age 34\n"
          ],
          "name": "stdout"
        }
      ]
    },
    {
      "cell_type": "markdown",
      "metadata": {
        "id": "vv1moNg2pyUa"
      },
      "source": [
        "Enter your namexyz<br>\r\n",
        "Enter your age34<br>\r\n",
        "User's name xyz and age 34"
      ]
    },
    {
      "cell_type": "markdown",
      "metadata": {
        "id": "Fw-qO1W9WlGW"
      },
      "source": [
        "5. Write and test a program that computes the area of a circle. This program should request a number representing  a radius as input from the user. It should use the formula 3.14*radius**2 to compute the area and then output this result suitably labeled."
      ]
    },
    {
      "cell_type": "code",
      "metadata": {
        "id": "PwqzW8U-W8fB",
        "colab": {
          "base_uri": "https://localhost:8080/"
        },
        "outputId": "25c7286c-d699-4849-cb3d-20b36fb6a0db"
      },
      "source": [
        "import math\r\n",
        "def area(r):\r\n",
        "  return (math.pi)*r**2\r\n",
        "radius = int(input('enter the radius'))\r\n",
        "print(f'Area of circle {area(radius)}')"
      ],
      "execution_count": null,
      "outputs": [
        {
          "output_type": "stream",
          "text": [
            "enter the radius2\n",
            "Area of circle 12.566370614359172\n"
          ],
          "name": "stdout"
        }
      ]
    },
    {
      "cell_type": "markdown",
      "metadata": {
        "id": "oZqGrUcuqI95"
      },
      "source": [
        "enter the radius2\r\n",
        "Area of circle 12.566370614359172"
      ]
    },
    {
      "cell_type": "markdown",
      "metadata": {
        "id": "roHMT8eHXDFg"
      },
      "source": [
        "6. Enter an input statement using the input function at the shll prompt. When the prompt asks you for input, enter a number. Then, attempt to add 1 to that number, observe the results and explain what happened."
      ]
    },
    {
      "cell_type": "code",
      "metadata": {
        "id": "Y9danKsrXXLJ",
        "colab": {
          "base_uri": "https://localhost:8080/",
          "height": 212
        },
        "outputId": "f075880f-381c-4466-ff62-5e5e48df10c9"
      },
      "source": [
        "num = input('enter a number')\r\n",
        "num += 1\r\n",
        "print(num)"
      ],
      "execution_count": null,
      "outputs": [
        {
          "output_type": "stream",
          "text": [
            "enter a number4\n"
          ],
          "name": "stdout"
        },
        {
          "output_type": "error",
          "ename": "TypeError",
          "evalue": "ignored",
          "traceback": [
            "\u001b[0;31m---------------------------------------------------------------------------\u001b[0m",
            "\u001b[0;31mTypeError\u001b[0m                                 Traceback (most recent call last)",
            "\u001b[0;32m<ipython-input-22-848712988a70>\u001b[0m in \u001b[0;36m<module>\u001b[0;34m()\u001b[0m\n\u001b[1;32m      1\u001b[0m \u001b[0mnum\u001b[0m \u001b[0;34m=\u001b[0m \u001b[0minput\u001b[0m\u001b[0;34m(\u001b[0m\u001b[0;34m'enter a number'\u001b[0m\u001b[0;34m)\u001b[0m\u001b[0;34m\u001b[0m\u001b[0;34m\u001b[0m\u001b[0m\n\u001b[0;32m----> 2\u001b[0;31m \u001b[0mnum\u001b[0m \u001b[0;34m+=\u001b[0m \u001b[0;36m1\u001b[0m\u001b[0;34m\u001b[0m\u001b[0;34m\u001b[0m\u001b[0m\n\u001b[0m\u001b[1;32m      3\u001b[0m \u001b[0mprint\u001b[0m\u001b[0;34m(\u001b[0m\u001b[0mnum\u001b[0m\u001b[0;34m)\u001b[0m\u001b[0;34m\u001b[0m\u001b[0;34m\u001b[0m\u001b[0m\n",
            "\u001b[0;31mTypeError\u001b[0m: can only concatenate str (not \"int\") to str"
          ]
        }
      ]
    },
    {
      "cell_type": "markdown",
      "metadata": {
        "id": "fRjJFZS2qoqo"
      },
      "source": [
        "It gives TypeError: can only concatenate str (not \"int\") to str because the default input of python is string  type and we can't add different data type, to add 1(int) to number input we have to map it explicitly to int type like this:<br>\r\n",
        "num = intinput('enter a number'))<br>\r\n",
        "num += 1<br>\r\n",
        "print(num)<br>\r\n",
        "This will add 1 to that number if 4 it will be 5."
      ]
    },
    {
      "cell_type": "markdown",
      "metadata": {
        "id": "-ud9b4rIXdyO"
      },
      "source": [
        "\r\n",
        "7. Enter the expression help() at the shell prompt. Follow the instructions to browse the topics and modules."
      ]
    },
    {
      "cell_type": "code",
      "metadata": {
        "id": "Q6DP_R5hXmmS"
      },
      "source": [
        "help()"
      ],
      "execution_count": null,
      "outputs": []
    },
    {
      "cell_type": "markdown",
      "metadata": {
        "id": "5oG6G7Ilr8Hb"
      },
      "source": [
        "When entered the expression help(). It calls the help function and it gets executed.\r\n",
        "Welcome to Python 3.7's help utility!\r\n",
        "\r\n",
        "If this is your first time using Python, you should definitely check out\r\n",
        "the tutorial on the Internet at https://docs.python.org/3.7/tutorial/.\r\n",
        "\r\n",
        "Enter the name of any module, keyword, or topic to get help on writing\r\n",
        "Python programs and using Python modules.  To quit this help utility and\r\n",
        "return to the interpreter, just type \"quit\".\r\n",
        "\r\n",
        "To get a list of available modules, keywords, symbols, or topics, type\r\n",
        "\"modules\", \"keywords\", \"symbols\", or \"topics\".  Each module also comes\r\n",
        "with a one-line summary of what it does; to list the modules whose name\r\n",
        "or summary contain a given string such as \"spam\", type \"modules spam\".\r\n",
        "\r\n",
        "help>\r\n",
        "help> topics\r\n",
        "\r\n",
        "Here is a list of available topics.  Enter any topic name to get more help.\r\n",
        "\r\n",
        "ASSERTION           DELETION            LOOPING             SHIFTING\r\n",
        "ASSIGNMENT          DICTIONARIES        MAPPINGMETHODS      SLICINGS\r\n",
        "ATTRIBUTEMETHODS    DICTIONARYLITERALS  MAPPINGS            SPECIALATTRIBUTES\r\n",
        "ATTRIBUTES          DYNAMICFEATURES     METHODS             SPECIALIDENTIFIERS\r\n",
        "AUGMENTEDASSIGNMENT ELLIPSIS            MODULES             SPECIALMETHODS\r\n",
        "BASICMETHODS        EXCEPTIONS          NAMESPACES          STRINGMETHODS\r\n",
        "BINARY              EXECUTION           NONE                STRINGS\r\n",
        "BITWISE             EXPRESSIONS         NUMBERMETHODS       SUBSCRIPTS\r\n",
        "BOOLEAN             FLOAT               NUMBERS             TRACEBACKS\r\n",
        "CALLABLEMETHODS     FORMATTING          OBJECTS             TRUTHVALUE\r\n",
        "CALLS               FRAMEOBJECTS        OPERATORS           TUPLELITERALS\r\n",
        "CLASSES             FRAMES              PACKAGES            TUPLES\r\n",
        "CODEOBJECTS         FUNCTIONS           POWER               TYPEOBJECTS\r\n",
        "COMPARISON          IDENTIFIERS         PRECEDENCE          TYPES\r\n",
        "COMPLEX             IMPORTING           PRIVATENAMES        UNARY\r\n",
        "CONDITIONAL         INTEGER             RETURNING           UNICODE\r\n",
        "CONTEXTMANAGERS     LISTLITERALS        SCOPING             \r\n",
        "CONVERSIONS         LISTS               SEQUENCEMETHODS     \r\n",
        "DEBUGGING           LITERALS            SEQUENCES           \r\n",
        "help> ASSERTION\r\n",
        "The \"assert\" statement\r\n",
        "**********************\r\n",
        "\r\n",
        "Assert statements are a convenient way to insert debugging assertions\r\n",
        "into a program:\r\n",
        "\r\n",
        "   assert_stmt ::= \"assert\" expression [\",\" expression]\r\n",
        "\r\n",
        "The simple form, \"assert expression\", is equivalent to\r\n",
        "\r\n",
        "   if __debug__:\r\n",
        "       if not expression: raise AssertionError\r\n",
        "\r\n",
        "The extended form, \"assert expression1, expression2\", is equivalent to\r\n",
        "\r\n",
        "   if __debug__:\r\n",
        "       if not expression1: raise AssertionError(expression2)\r\n",
        "\r\n",
        "These equivalences assume that \"__debug__\" and \"AssertionError\" refer\r\n",
        "to the built-in variables with those names.  In the current\r\n",
        "implementation, the built-in variable \"__debug__\" is \"True\" under\r\n",
        "normal circumstances, \"False\" when optimization is requested (command\r\n",
        "line option \"-O\").  The current code generator emits no code for an\r\n",
        "assert statement when optimization is requested at compile time.  Note\r\n",
        "that it is unnecessary to include the source code for the expression\r\n",
        "that failed in the error message; it will be displayed as part of the\r\n",
        "stack trace.\r\n",
        "\r\n",
        "Assignments to \"__debug__\" are illegal.  The value for the built-in\r\n",
        "variable is determined when the interpreter starts.\r\n",
        "help> modules\r\n",
        "\r\n",
        "Please wait a moment while I gather a list of all available modules...\r\n",
        "\r\n",
        "__future__          atexit              html                sched\r\n",
        "__main__            audioop             http                scrolledlist\r\n",
        "_abc                autocomplete        hyperparser         search\r\n",
        "_ast                autocomplete_w      idle                searchbase\r\n",
        "_asyncio            autoexpand          idle_test           searchengine\r\n",
        "_bisect             base64              idlelib             secrets\r\n",
        "_blake2             bdb                 imaplib             select\r\n",
        "_bootlocale         binascii            imghdr              selectors\r\n",
        "_bz2                binhex              imp                 setuptools\r\n",
        "_cffi_backend       bisect              importlib           shelve\r\n",
        "_codecs             browser             inspect             shlex\r\n",
        "_codecs_cn          builtins            io                  shutil\r\n",
        "_codecs_hk          bz2                 iomenu              sidebar\r\n",
        "_codecs_iso2022     cProfile            ipaddress           signal\r\n",
        "_codecs_jp          calendar            itertools           site\r\n",
        "_codecs_kr          calltip             json                six\r\n",
        "_codecs_tw          calltip_w           keyword             smtpd\r\n",
        "_collections        cffi                knox                smtplib\r\n",
        "_collections_abc    cgi                 lib2to3             sndhdr\r\n",
        "_compat_pickle      cgitb               linecache           socket\r\n",
        "_compression        chunk               locale              socketserver\r\n",
        "_contextvars        cmath               logging             sqlite3\r\n",
        "_csv                cmd                 lzma                sqlparse\r\n",
        "_ctypes             code                macosx              squeezer\r\n",
        "_ctypes_test        codecontext         macpath             sre_compile\r\n",
        "_datetime           codecs              mailbox             sre_constants\r\n",
        "_decimal            codeop              mailcap             sre_parse\r\n",
        "_dummy_thread       collections         mainmenu            ssl\r\n",
        "_elementtree        colorizer           marshal             stackviewer\r\n",
        "_functools          colorsys            math                stat\r\n",
        "_hashlib            compileall          mimetypes           statistics\r\n",
        "_heapq              concurrent          mmap                statusbar\r\n",
        "_imp                config              modulefinder        string\r\n",
        "_io                 config_key          msilib              stringprep\r\n",
        "_json               configdialog        msvcrt              struct\r\n",
        "_locale             configparser        multicall           subprocess\r\n",
        "_lsprof             contextlib          multiprocessing     sunau\r\n",
        "_lzma               contextvars         mysql               symbol\r\n",
        "_markupbase         copy                mysqlx              symtable\r\n",
        "_md5                copyreg             netrc               sys\r\n",
        "_msi                corsheaders         nntplib             sysconfig\r\n",
        "_multibytecodec     crypt               nt                  tabnanny\r\n",
        "_multiprocessing    cryptography        ntpath              tarfile\r\n",
        "_mysql_connector    csv                 nturl2path          telnetlib\r\n",
        "_mysqlxpb           ctypes              numbers             tempfile\r\n",
        "_opcode             curses              opcode              test\r\n",
        "_operator           dataclasses         operator            textview\r\n",
        "_osx_support        datetime            optparse            textwrap\r\n",
        "_overlapped         dbm                 os                  this\r\n",
        "_pickle             debugger            outwin              threading\r\n",
        "_py_abc             debugger_r          parenmatch          time\r\n",
        "_pydecimal          debugobj            parser              timeit\r\n",
        "_pyio               debugobj_r          pathbrowser         tkinter\r\n",
        "_queue              decimal             pathlib             token\r\n",
        "_random             delegator           pdb                 tokenize\r\n",
        "_sha1               difflib             percolator          tooltip\r\n",
        "_sha256             dis                 pickle              trace\r\n",
        "_sha3               distutils           pickletools         traceback\r\n",
        "_sha512             django              pip                 tracemalloc\r\n",
        "_signal             doctest             pipes               tree\r\n",
        "_sitebuiltins       dummy_threading     pkg_resources       tty\r\n",
        "_socket             dynoption           pkgutil             turtle\r\n",
        "_sqlite3            easy_install        platform            turtledemo\r\n",
        "_sre                editor              plistlib            types\r\n",
        "_ssl                email               poplib              typing\r\n",
        "_stat               encodings           posixpath           undo\r\n",
        "_string             ensurepip           pprint              unicodedata\r\n",
        "_strptime           enum                profile             unittest\r\n",
        "_struct             errno               pstats              urllib\r\n",
        "_symtable           faulthandler        pty                 uu\r\n",
        "_testbuffer         filecmp             py_compile          uuid\r\n",
        "_testcapi           fileinput           pyclbr              venv\r\n",
        "_testconsole        filelist            pycparser           warnings\r\n",
        "_testimportmultiple fnmatch             pydoc               wave\r\n",
        "_testmultiphase     format              pydoc_data          weakref\r\n",
        "_thread             formatter           pyexpat             webbrowser\r\n",
        "_threading_local    fractions           pyparse             window\r\n",
        "_tkinter            ftplib              pyshell             winreg\r\n",
        "_tracemalloc        functools           pytz                winsound\r\n",
        "_warnings           gc                  query               wsgiref\r\n",
        "_weakref            genericpath         queue               xdrlib\r\n",
        "_weakrefset         getopt              quopri              xml\r\n",
        "_winapi             getpass             random              xmlrpc\r\n",
        "abc                 gettext             re                  xxsubtype\r\n",
        "aifc                glob                redirector          zipapp\r\n",
        "antigravity         grep                replace             zipfile\r\n",
        "argparse            gzip                reprlib             zipimport\r\n",
        "array               hashlib             rest_framework      zlib\r\n",
        "asgiref             heapq               rlcompleter         zoomheight\r\n",
        "ast                 help                rpc                 zzdummy\r\n",
        "asynchat            help_about          run                 \r\n",
        "asyncio             history             runpy               \r\n",
        "asyncore            hmac                runscript           \r\n",
        "\r\n",
        "Enter any module name to get more help.  Or, type \"modules spam\" to search\r\n",
        "for modules whose name or summary contain the string \"spam\".\r\n",
        "\r\n",
        "help> typing\r\n",
        "\r\n"
      ]
    },
    {
      "cell_type": "markdown",
      "metadata": {
        "id": "Mh0jLr5HYCzo"
      },
      "source": [
        "8. The tax calculator program of the case study outputs a floating-point number that might show more than two digits of precision. Use the round function to modify the program to display at most two digits of precision in the output number."
      ]
    },
    {
      "cell_type": "code",
      "metadata": {
        "id": "6JN4PaojYEK4",
        "colab": {
          "base_uri": "https://localhost:8080/"
        },
        "outputId": "c21e1ec0-9320-4939-f22d-935492b8189a"
      },
      "source": [
        "income = int(input('Enter your total income'))\r\n",
        "def tax(i):\r\n",
        "  return i*(13/100)\r\n",
        "print('Total tax :',round(tax(income),2))"
      ],
      "execution_count": null,
      "outputs": [
        {
          "output_type": "stream",
          "text": [
            "Enter your total income4444444\n",
            "Total tax : 577777.72\n"
          ],
          "name": "stdout"
        }
      ]
    },
    {
      "cell_type": "markdown",
      "metadata": {
        "id": "KaO5JvIUuuqX"
      },
      "source": [
        "Enter your total income4444444\r\n",
        "Total tax : 577777.72"
      ]
    },
    {
      "cell_type": "markdown",
      "metadata": {
        "id": "SeHW1j9kYF8Q"
      },
      "source": [
        "9. You can calculate the surface area of a cube if you know the length of an edge. Write a program that takes the length of an edge(an integer) as input and prints the cube's surface area as output."
      ]
    },
    {
      "cell_type": "code",
      "metadata": {
        "id": "otcAXgxxYkx6",
        "colab": {
          "base_uri": "https://localhost:8080/"
        },
        "outputId": "8139edb8-b64c-4115-8912-66deb245af49"
      },
      "source": [
        "l = int(input('enter the lenght of an edge:'))\r\n",
        "surface_area = 6 * l**2\r\n",
        "print('The surface area of cube is', surface_area)"
      ],
      "execution_count": null,
      "outputs": [
        {
          "output_type": "stream",
          "text": [
            "enter the lenght of an edge:4\n",
            "The surface area of cube is 96\n"
          ],
          "name": "stdout"
        }
      ]
    },
    {
      "cell_type": "markdown",
      "metadata": {
        "id": "DOku-ISjvORh"
      },
      "source": [
        "enter the lenght of an edge:4<br>\r\n",
        "The surface area of cube is 96"
      ]
    },
    {
      "cell_type": "markdown",
      "metadata": {
        "id": "O3379lCKYlcr"
      },
      "source": [
        "10.Five Star Retro Video rents VHS tapes and DVDs to the same connoisseurs who like to buy LP record albums. The store rents new videos for $3.00 a night, and oldies for $2.00 a night.\r\n",
        "\r\n",
        "Write a program that the clerks at Five Star Retro Video can use to calculate the total charge for a customer’s video rentals.\r\n",
        "\r\n",
        "The program should prompt the user for the number of each type of video and output the total cost."
      ]
    },
    {
      "cell_type": "code",
      "metadata": {
        "id": "kKoIAmUpY4dY",
        "colab": {
          "base_uri": "https://localhost:8080/"
        },
        "outputId": "05788a98-c49a-43e8-fe69-8baeb588ed33"
      },
      "source": [
        "new = int(input('Enter number of nights for new videos'))\r\n",
        "oldy = int(input('Enter number of nights for old videos'))\r\n",
        "total_price = (new * 3.00) + (oldy * 2.00)\r\n",
        "print(f'Total cost :{total_price}')"
      ],
      "execution_count": null,
      "outputs": [
        {
          "output_type": "stream",
          "text": [
            "Enter number of nights for new videos7\n",
            "Enter number of nights for old videos8\n",
            "Total cost :37.0\n"
          ],
          "name": "stdout"
        }
      ]
    },
    {
      "cell_type": "markdown",
      "metadata": {
        "id": "pouleJn6wSYQ"
      },
      "source": [
        "Enter number of nights for new videos7<br>\r\n",
        "Enter number of nights for old videos8<br>\r\n",
        "Total cost :37.0"
      ]
    },
    {
      "cell_type": "markdown",
      "metadata": {
        "id": "oBQWzZuoY9dH"
      },
      "source": [
        "11. Write a program that takes the radius of a sphere(a floating point number) as input and then outputs the sphere's diameter, circumference, surface area and volume."
      ]
    },
    {
      "cell_type": "code",
      "metadata": {
        "id": "MNAlLLYrbatP",
        "colab": {
          "base_uri": "https://localhost:8080/"
        },
        "outputId": "5406faf5-8f61-4a00-c263-5ebbda84119c"
      },
      "source": [
        "import math\r\n",
        "r =float(input('enter the radius of sphere'))\r\n",
        "diameter = 2 * r\r\n",
        "circumference = 2 * (math.pi) * radius\r\n",
        "volume = 4/3 * (math.pi) * radius ** 3\r\n",
        "surface_area = 4 * (math.pi) * radius ** 2\r\n",
        "print(f'Diameter of sphere:{diameter}')\r\n",
        "print(f'Circumference of sphere:{circumference}')\r\n",
        "print(f'Volume of sphere:{volume}')\r\n",
        "print(f'Surface area of sphere:{surface_area}')\r\n",
        "\r\n"
      ],
      "execution_count": null,
      "outputs": [
        {
          "output_type": "stream",
          "text": [
            "enter the radius of sphere5\n",
            "Diameter of sphere:10.0\n",
            "Circumference of sphere:12.566370614359172\n",
            "Volume of sphere:33.510321638291124\n",
            "Surface area of sphere:50.26548245743669\n"
          ],
          "name": "stdout"
        }
      ]
    },
    {
      "cell_type": "markdown",
      "metadata": {
        "id": "Uj5v488CyF18"
      },
      "source": [
        "enter the radius of sphere5<br>\r\n",
        "Diameter of sphere:10.0<br>\r\n",
        "Circumference of sphere:12.566370614359172<br>\r\n",
        "Volume of sphere:33.510321638291124<br>\r\n",
        "Surface area of sphere:50.26548245743669"
      ]
    },
    {
      "cell_type": "markdown",
      "metadata": {
        "id": "zOx3W9G8bb_2"
      },
      "source": [
        "12. Instructions An object's momentum is its mass multiplied by its velocity. Write a program that accepts an object's mass (in kilograms) and velocity (in meters per second) as inputs, and then outputs its momentum."
      ]
    },
    {
      "cell_type": "code",
      "metadata": {
        "id": "hlYAuUajdI0X",
        "colab": {
          "base_uri": "https://localhost:8080/"
        },
        "outputId": "9882c62f-3d77-44f0-f512-3367b1d3c35a"
      },
      "source": [
        "mass = float(input('Enter mass: '))\r\n",
        "velocity = float(input('Enter velocity: '))\r\n",
        "def momtm(m,v):\r\n",
        "  return m * v\r\n",
        "momentum = momtm(mass,velocity)\r\n",
        "print(f'Momentum {momentum} kg*m/s')"
      ],
      "execution_count": null,
      "outputs": [
        {
          "output_type": "stream",
          "text": [
            "Enter mass: 3\n",
            "Enter velocity: 4\n",
            "Momentum 12.0 kg*m/s\n"
          ],
          "name": "stdout"
        }
      ]
    },
    {
      "cell_type": "markdown",
      "metadata": {
        "id": "jU4yPCcrdf0D"
      },
      "source": [
        "13. The kinetic energy of a moving object is given by the formula KE = ½mv2 where m is the object’s mass and v is its velocity.\r\n",
        "\r\n",
        "Modify the program you created in Project 5 so that it prints the object’s kinetic energy as well as its momentum."
      ]
    },
    {
      "cell_type": "code",
      "metadata": {
        "id": "ocVu-KGkd9lN",
        "colab": {
          "base_uri": "https://localhost:8080/"
        },
        "outputId": "d19d7595-3934-43c2-d7be-cb1d1e3bfba5"
      },
      "source": [
        "mass = float(input('Enter mass:'))\r\n",
        "velocity = float(input('Enter velocity:'))\r\n",
        "def momtm(m,v):\r\n",
        "  return m * v\r\n",
        "def ke(m,v):\r\n",
        "  return 1/2 * m * v**2\r\n",
        "momentum = momtm(mass,velocity)\r\n",
        "k_e = ke(mass,velocity)\r\n",
        "print(f'Momentum is{momentum} kg*m/s')\r\n",
        "print(f'Kinetic Energy is {k_e}')"
      ],
      "execution_count": null,
      "outputs": [
        {
          "output_type": "stream",
          "text": [
            "Enter mass:5\n",
            "Enter velocity:6\n",
            "Momentum is30.0 kg*m/s\n",
            "Kinetic Energy is 90.0\n"
          ],
          "name": "stdout"
        }
      ]
    },
    {
      "cell_type": "markdown",
      "metadata": {
        "id": "-12H1pGW1THG"
      },
      "source": [
        "Enter mass:5<br>\r\n",
        "Enter velocity:6<br>\r\n",
        "Momentum is30.0 kg*m/s<br>\r\n",
        "Kinetic Energy is 90.0"
      ]
    },
    {
      "cell_type": "markdown",
      "metadata": {
        "id": "KGUdbd0Od-TE"
      },
      "source": [
        "14. An employee’s total weekly pay equals the hourly wage multiplied by the total number of regular hours plus any overtime pay. Overtime pay equals the total overtime hours multiplied by 1.5 times the hourly wage. Write a program that takes as inputs the hourly wage, total regular hours, and total overtime hours and displays an employee’s total weekly pay."
      ]
    },
    {
      "cell_type": "code",
      "metadata": {
        "id": "d4lYL0jFekM1"
      },
      "source": [
        "wage = float(input('Enter hourly wage: '))\r\n",
        "regular_hour = float(input('Enter total regular hours: '))\r\n",
        "overtime_hours = float(input('Enter total overtime hours: '))\r\n",
        "def weekly_pay(w,r,o):\r\n",
        "  return r * w + o * w * 1.5\r\n",
        "\r\n",
        "total = weekly_pay(wage, regular_hour,overtime_hours) \r\n",
        "\r\n",
        "print('The employee weekly pay is', total)"
      ],
      "execution_count": null,
      "outputs": []
    },
    {
      "cell_type": "markdown",
      "metadata": {
        "id": "6KBqGepcfGWI"
      },
      "source": [
        ""
      ]
    }
  ]
}